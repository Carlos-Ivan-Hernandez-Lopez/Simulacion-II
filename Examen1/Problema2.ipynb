{
  "nbformat": 4,
  "nbformat_minor": 0,
  "metadata": {
    "colab": {
      "provenance": [],
      "authorship_tag": "ABX9TyMAXAFArmzQcPaAPNKbQqYF",
      "include_colab_link": true
    },
    "kernelspec": {
      "name": "python3",
      "display_name": "Python 3"
    },
    "language_info": {
      "name": "python"
    }
  },
  "cells": [
    {
      "cell_type": "markdown",
      "metadata": {
        "id": "view-in-github",
        "colab_type": "text"
      },
      "source": [
        "<a href=\"https://colab.research.google.com/github/Carlos-Ivan-Hernandez-Lopez/Simulacion-II/blob/main/Examen1/Problema2.ipynb\" target=\"_parent\"><img src=\"https://colab.research.google.com/assets/colab-badge.svg\" alt=\"Open In Colab\"/></a>"
      ]
    },
    {
      "cell_type": "markdown",
      "source": [
        "Instituto Politécnico Nacional \n",
        "\n",
        "Escuela superior de física y matemáticas\n",
        "\n",
        "Simulación II\n",
        "\n",
        "Primer examen parcial.\n",
        "\n",
        "Carlos Iván Hernández López"
      ],
      "metadata": {
        "id": "_prwglrVhkI0"
      }
    },
    {
      "cell_type": "markdown",
      "source": [
        "# 25. Un quiosquero vende periódicos a 1.10 euros cada uno.\n",
        "Cada periódico le cuesta al quiosquero 0.90 euros. Las ventas de periódicos del quiosquero a partir de su experiencia se refleja en la siguiente tabla.\n",
        "\n",
        "| Periódicos | 30 |  40 | 50 | 60 | 70 |\n",
        "|-|-|-|-|-|-| \n",
        "| $f(x)$ | 20% | 25% | 25% | 20% | 10% |\n",
        "\n",
        "La tabla recoge por ejemplo que el 20% del tiempo de las ventas ha sido de 30 periódicos teniendo en cuenta el costo de 0.20 euros por venta perdida y el coste de 0.10 por reciclaje de cada periodico no vendido, determine el veneficio promedio diario si pide 50 periódicos cada día."
      ],
      "metadata": {
        "id": "CAG7_3jk5Is9"
      }
    },
    {
      "cell_type": "markdown",
      "source": [
        "## Solución por simulación.\n",
        "Aplicando la metodologia de la simulación."
      ],
      "metadata": {
        "id": "Tc-D9AJ5BBrw"
      }
    },
    {
      "cell_type": "markdown",
      "source": [
        "### Paso 1:Define las variables.\n",
        "$x$: Describe la cantidad de periódicos vendidos en un día"
      ],
      "metadata": {
        "id": "gYZ8kT9Nsrmw"
      }
    },
    {
      "cell_type": "markdown",
      "source": [
        "### Paso 2 y 3: Defina la distribución de probabilidad y modele las variables aleatorias.\n",
        "Por las condiciones mostradas en el problema la variable tiene la siguiente distribución.\n",
        "\n",
        "$$x∼\\begin{cases}30 & \\text{20% de los casos}\\\\ 40 & \\text{25% de los casos} \\\\ 50 & \\text{25% de los casos} \\\\ 60 & \\text{20% de los casos} \\\\ 70 & \\text{10% de los casos} \\end{cases}$$"
      ],
      "metadata": {
        "id": "JAO_9wE8Dv5q"
      }
    },
    {
      "cell_type": "markdown",
      "source": [
        "### Paso 4:Defina el modelo del sistema y los objetivos de la simulación.\n",
        "En este caso el modelo será el siguiente\n",
        "\n",
        "$$U=\\begin{cases} x*1.10-50*0.9-(50-x)*0.1 & \\text{si $x\\leq 50$}\\\\ 50*1.10-50*0.9-(x-50)*0.20 & \\text{si $x>50$} \\end{cases}$$\n",
        "\n",
        "El objetivo de esta simulación es determinar el precio promedio de la estrategia de ventas."
      ],
      "metadata": {
        "id": "eIs2Uj6CF016"
      }
    },
    {
      "cell_type": "code",
      "execution_count": 45,
      "metadata": {
        "id": "GagJGJR74-op"
      },
      "outputs": [],
      "source": [
        "# Se importan las librerias que usaremos.\n",
        "import numpy as np\n",
        "import random as rd\n",
        "import matplotlib.pyplot as plt\n",
        "import math "
      ]
    },
    {
      "cell_type": "code",
      "source": [
        "def ventas():     #Esta función nos regresa el valor del veneficio diario el quiosquero.\n",
        "  x=rd.random()   \n",
        "  if x<1/5:        #Asigna el valor de 30 al 20% de las corridas.\n",
        "    x=30\n",
        "  else:\n",
        "    if x<9/20:     #Asigna el valor de 40 al 25% de las corridas.\n",
        "      x=40\n",
        "    else:\n",
        "      if x<7/10:   #Asigna el valor de 50 al 25% de las corridas.\n",
        "        x=50\n",
        "      else:\n",
        "        if x<9/10: #Asigna el valor de 60 al 20% de las corridas.\n",
        "          x=60\n",
        "        else:\n",
        "          if x<1:  #Asigna el valor de 70 al 10% de las corridas.\n",
        "            x=70\n",
        "  if x<=50:        #Se calcula el valor del veneficio dependiendo de x.\n",
        "    u=x*1.1-50*0.9-(50-x)*0.1\n",
        "  else:\n",
        "    u=50*1.1-50*0.9-(x-50)*0.2\n",
        "  return u"
      ],
      "metadata": {
        "id": "iW59QGbe5q1t"
      },
      "execution_count": 7,
      "outputs": []
    },
    {
      "cell_type": "code",
      "source": [
        "ventas()"
      ],
      "metadata": {
        "colab": {
          "base_uri": "https://localhost:8080/"
        },
        "id": "m6qWa3qVbIIh",
        "outputId": "e781b955-1875-4e7d-b76e-f88176246363"
      },
      "execution_count": 127,
      "outputs": [
        {
          "output_type": "execute_result",
          "data": {
            "text/plain": [
              "-2.0"
            ]
          },
          "metadata": {},
          "execution_count": 127
        }
      ]
    },
    {
      "cell_type": "markdown",
      "source": [
        "### Paso 5: Diseñe el experimento.\n",
        "Para determinar el veneficio promeido diario correremos n veces el modelo y registraremos los valores obtenidos."
      ],
      "metadata": {
        "id": "lshopxNqYKEu"
      }
    },
    {
      "cell_type": "code",
      "source": [
        "def veneficio(n): #Esta función devuelve una lista con los promedios de cada iteración\n",
        "  v=0\n",
        "  promedio=[]\n",
        "  for i in range(n):\n",
        "    v+=ventas()\n",
        "    p=v/(i+1) \n",
        "    promedio.append(p)\n",
        "  return promedio"
      ],
      "metadata": {
        "id": "01Yw25LXc2mn"
      },
      "execution_count": 8,
      "outputs": []
    },
    {
      "cell_type": "code",
      "source": [
        "x=veneficio(1000) #Asignamos un valor a n en el cual vemos que se estabiliza el promedio por medio de la siguiente grafica.\n",
        "plt.plot(x)\n",
        "Media=np.mean(x) #Obtenemos la media y la desviación estándar de los datos generados.\n",
        "DesEst=np.std(x)\n",
        "print(Media,DesEst)"
      ],
      "metadata": {
        "colab": {
          "base_uri": "https://localhost:8080/",
          "height": 447
        },
        "id": "1Pdxyv9jdc33",
        "outputId": "e6ab78b0-adf1-462c-e0d5-537065f9f6b6"
      },
      "execution_count": 24,
      "outputs": [
        {
          "output_type": "stream",
          "name": "stdout",
          "text": [
            "1.5171739541915152 0.5836017675418058\n"
          ]
        },
        {
          "output_type": "display_data",
          "data": {
            "text/plain": [
              "<Figure size 640x480 with 1 Axes>"
            ],
            "image/png": "[encoded data removed]"
          },
          "metadata": {}
        }
      ]
    },
    {
      "cell_type": "markdown",
      "source": [
        "### Paso 6: Repita el experimento $N$ veces\n",
        "Encontramos $N$ por medio del teorema central del limite.\n"
      ],
      "metadata": {
        "id": "JgsCsqfNo9dn"
      }
    },
    {
      "cell_type": "code",
      "source": [
        "N=math.ceil((2*DesEst*1.96/0.01)**2) #El teorema central del limite nos dara una aproximacion a la cantidad de reprticiones que se requieren para que el experimento\n",
        "print(N)                  #regrese resultados confiables."
      ],
      "metadata": {
        "colab": {
          "base_uri": "https://localhost:8080/"
        },
        "id": "NKAlMtOGpfVp",
        "outputId": "56f995d8-1922-4725-b229-3401e83bb018"
      },
      "execution_count": 46,
      "outputs": [
        {
          "output_type": "stream",
          "name": "stdout",
          "text": [
            "52337\n"
          ]
        }
      ]
    },
    {
      "cell_type": "markdown",
      "source": [
        "Repetiremos el experimento 52337 veces por meido de"
      ],
      "metadata": {
        "id": "dWTyKrMGpwo0"
      }
    },
    {
      "cell_type": "code",
      "source": [
        "def rep(j):\n",
        "  lista=[]\n",
        "  for i in range(j):\n",
        "    r=veneficio(1000)\n",
        "    lista.append(np.mean(r))\n",
        "  return lista"
      ],
      "metadata": {
        "id": "N-0aGSp6Gw-8"
      },
      "execution_count": 30,
      "outputs": []
    },
    {
      "cell_type": "code",
      "source": [
        "Y=rep(N)\n",
        "plt.hist(Y)\n",
        "plt.show()"
      ],
      "metadata": {
        "colab": {
          "base_uri": "https://localhost:8080/",
          "height": 430
        },
        "id": "UTgAl6pLHgvV",
        "outputId": "dbc93d0b-9295-4fee-f882-3ebb9e6a9c0b"
      },
      "execution_count": 47,
      "outputs": [
        {
          "output_type": "display_data",
          "data": {
            "text/plain": [
              "<Figure size 640x480 with 1 Axes>"
            ],
            "image/png": "[encoded data removed]"
          },
          "metadata": {}
        }
      ]
    },
    {
      "cell_type": "code",
      "source": [
        "X=np.mean(Y)\n",
        "s=np.std(Y)\n",
        "print(X,s)"
      ],
      "metadata": {
        "colab": {
          "base_uri": "https://localhost:8080/"
        },
        "id": "QZhcCvytq7N9",
        "outputId": "26d13427-55c9-4d5d-f63d-d4107fe291a0"
      },
      "execution_count": 48,
      "outputs": [
        {
          "output_type": "stream",
          "name": "stdout",
          "text": [
            "1.3980159513981516 0.3975353319307778\n"
          ]
        }
      ]
    },
    {
      "cell_type": "markdown",
      "source": [
        "### Paso 7. Obtener el intervalo de confianza.\n",
        "Para obtener el intervalo de confianza usaremos\n",
        "$$\\bar{x}-z_{α/2}*s/\\sqrt{n}<μ<\\bar{x}+z_{α/2}*s/\\sqrt{n}$$\n",
        "con un nivel de confianza del 95%"
      ],
      "metadata": {
        "id": "CBlYVkPVNAlq"
      }
    },
    {
      "cell_type": "code",
      "source": [
        "li=X-(1.96*s/np.sqrt(N)) #Se calculan los limites con los parametros que tenemos.\n",
        "ls=X+(1.96*s/np.sqrt(N))\n",
        "print('El intervalo de confianza es:[', li, ',', ls, ']')"
      ],
      "metadata": {
        "colab": {
          "base_uri": "https://localhost:8080/"
        },
        "id": "vFgDkg32OPb-",
        "outputId": "d20df95f-1488-4688-e077-77dd1d4c84b2"
      },
      "execution_count": 49,
      "outputs": [
        {
          "output_type": "stream",
          "name": "stdout",
          "text": [
            "El intervalo de confianza es:[ 1.3946100866884072 , 1.401421816107896 ]\n"
          ]
        }
      ]
    },
    {
      "cell_type": "markdown",
      "source": [
        "## Solución analitica\n",
        "Primero calcularemos las prosibles utilidades que puede tener el quiosquero en cada caso."
      ],
      "metadata": {
        "id": "b-w-ihQaslu1"
      }
    },
    {
      "cell_type": "markdown",
      "source": [
        "$$U=\\begin{cases}30*1.1-50*0.9-(50-30)*0.1=-14 & p=0.20 \\\\ 40*1.1-50*0.9-(50-40)*0.1=-2 & p=0.25 \\\\ 50*1.1-50*0.9-(50-50)*0.1=10 & p=0.25 \\\\50*1.1-50*0.9-(60-50)*0.2=8 & p=0.20\\\\50*1.1-50*0.9-(70-50)*0.2=6 & p=0.10 \\end{cases}$$"
      ],
      "metadata": {
        "id": "6ojaXJNTs3k0"
      }
    },
    {
      "cell_type": "markdown",
      "source": [
        "Obtenemos el veneficio promedio multiplicando las utilidades por la probabilidad de obtenerlas."
      ],
      "metadata": {
        "id": "_0NVIyFOvPHW"
      }
    },
    {
      "cell_type": "markdown",
      "source": [
        "$$Veneficio=-14(0.20)-2(0.25)+10(0.25)+8(0.20)+6(0.10)$$\n",
        "$$Veneficio=1.4$$"
      ],
      "metadata": {
        "id": "-BQn6o3ovmOQ"
      }
    },
    {
      "cell_type": "markdown",
      "source": [
        "El veneficio promedio del quiosquero es de 1.4 euros."
      ],
      "metadata": {
        "id": "miWE0MH3wIeR"
      }
    },
    {
      "cell_type": "markdown",
      "source": [
        "## Determine, por simulación, el pedido de periódicos que optimiza el veneficio.\n",
        "Modificamos el modelo para evaluar diferentes pedidos."
      ],
      "metadata": {
        "id": "vLbU3MiywOMV"
      }
    },
    {
      "cell_type": "code",
      "source": [
        "def utilidad(Oferta): #Esta función nos regresa el valor del veneficio diario el quiosquero.\n",
        "  x=rd.random()   \n",
        "  if x<1/5:        #Asigna el valor de 30 al 20% de las corridas.\n",
        "    x=30\n",
        "  else:\n",
        "    if x<9/20:     #Asigna el valor de 40 al 25% de las corridas.\n",
        "      x=40\n",
        "    else:\n",
        "      if x<7/10:   #Asigna el valor de 50 al 25% de las corridas.\n",
        "        x=50\n",
        "      else:\n",
        "        if x<9/10: #Asigna el valor de 60 al 20% de las corridas.\n",
        "          x=60\n",
        "        else:\n",
        "          if x<1:  #Asigna el valor de 70 al 10% de las corridas.\n",
        "            x=70\n",
        "  if x<=Oferta:        #Se calcula el valor del veneficio dependiendo de x.\n",
        "    u=x*1.1-Oferta*0.9-(Oferta-x)*0.1\n",
        "  else:\n",
        "    u=Oferta*1.1-Oferta*0.9-(x-Oferta)*0.2\n",
        "  return u"
      ],
      "metadata": {
        "id": "pDGyNsTZy01b"
      },
      "execution_count": 52,
      "outputs": []
    },
    {
      "cell_type": "code",
      "source": [
        "esperado=[]            #Con este programa se determina el pedido que optimiza el veneficio del quiosquero\n",
        "for i in range(0,70):\n",
        "  v=0\n",
        "  prom=[]\n",
        "  for j in range(1000):\n",
        "    v+=utilidad(i)\n",
        "    prom.append(v/(j+1))\n",
        "  p=np.mean(prom)\n",
        "  esperado.append(p)   #'esperado' es una lista que guarda el promedio de 1000 promeidos por corrida. \n",
        "plt.plot(esperado)\n",
        "max=np.max(esperado)   #El valor maximo de 'esperado' es el valor que optimiza la utilidad.\n",
        "for i in range(len(esperado)): #Recorremos todo el vector 'esperado' para encontrar el pedido que optimiza el veneficio.\n",
        "  if max==esperado[i]:\n",
        "    print('El peido de periódicos que optimiza el veneficio es: ',i,', con un veneficio de: ',max, 'Euros.')"
      ],
      "metadata": {
        "colab": {
          "base_uri": "https://localhost:8080/",
          "height": 447
        },
        "id": "NBvDOpH10Uf-",
        "outputId": "2b605093-a65f-46ba-dcb9-b6e03b4d3fce"
      },
      "execution_count": 96,
      "outputs": [
        {
          "output_type": "stream",
          "name": "stdout",
          "text": [
            "El peido de periódicos que optimiza el veneficio es:  40 , con un veneficio de:  3.9034638055169966 Euros.\n"
          ]
        },
        {
          "output_type": "display_data",
          "data": {
            "text/plain": [
              "<Figure size 640x480 with 1 Axes>"
            ],
            "image/png": "[encoded data removed]"
          },
          "metadata": {}
        }
      ]
    }
  ]
}