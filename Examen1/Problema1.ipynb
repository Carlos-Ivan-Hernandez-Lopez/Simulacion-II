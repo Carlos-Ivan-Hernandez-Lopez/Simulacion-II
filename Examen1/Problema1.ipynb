{
  "nbformat": 4,
  "nbformat_minor": 0,
  "metadata": {
    "colab": {
      "provenance": [],
      "authorship_tag": "ABX9TyMeZ5lWyrhXqQECM4Dl14c8",
      "include_colab_link": true
    },
    "kernelspec": {
      "name": "python3",
      "display_name": "Python 3"
    },
    "language_info": {
      "name": "python"
    }
  },
  "cells": [
    {
      "cell_type": "markdown",
      "metadata": {
        "id": "view-in-github",
        "colab_type": "text"
      },
      "source": [
        "<a href=\"https://colab.research.google.com/github/Carlos-Ivan-Hernandez-Lopez/Simulacion-II/blob/main/Examen1/Problema1.ipynb\" target=\"_parent\"><img src=\"https://colab.research.google.com/assets/colab-badge.svg\" alt=\"Open In Colab\"/></a>"
      ]
    },
    {
      "cell_type": "markdown",
      "source": [
        "Instituto Politécnico Nacional \n",
        "\n",
        "Escuela superior de física y matemáticas\n",
        "\n",
        "Simulación II\n",
        "\n",
        "Primer examen parcial.\n",
        "\n",
        "Carlos Iván Hernández López"
      ],
      "metadata": {
        "id": "_prwglrVhkI0"
      }
    },
    {
      "cell_type": "markdown",
      "source": [
        "# 16. Dos personas han quedado citas en un determinado lugar. \n",
        "Ambas tieen la misma probabilidad de llegar al lugar de la cita en el intervalo de tiempo [0,30].\n",
        "\n",
        "Determínese la probabilidad de que el tiempo que una persona espera a la otra sea como máximo 10."
      ],
      "metadata": {
        "id": "SZ-0xziIjY-H"
      }
    },
    {
      "cell_type": "markdown",
      "source": [
        "## Solución por simulación\n",
        "\n",
        "Utilizando la metodologia de la simulación."
      ],
      "metadata": {
        "id": "1F1zsD42kzQh"
      }
    },
    {
      "cell_type": "code",
      "execution_count": null,
      "metadata": {
        "id": "JbzqMiOzg0K0"
      },
      "outputs": [],
      "source": [
        "# Se importan las librerias que usaremos.\n",
        "import numpy as np\n",
        "import random as rd\n",
        "import matplotlib.pyplot as plt"
      ]
    },
    {
      "cell_type": "markdown",
      "source": [
        "### Paso 1: Define las variables\n",
        "Usaremos dos variables aleatorias para representar a las personas involucradas.\n",
        "```\n",
        "Persona1\n",
        "Persona2\n",
        "```\n",
        "\n"
      ],
      "metadata": {
        "id": "RXn8F02zlNZ_"
      }
    },
    {
      "cell_type": "markdown",
      "source": [
        "### Paso 2 y 3: Determine la distribución de probabilidad y modele las variables aleatorias.\n",
        "Por las condiciones que establece el problema, las dos variables aleatorias tendran distribución uniforme continua en el intervalo (0,30)\n",
        "\n",
        "$$Persona1∼U(0,30)$$\n",
        "$$Persona2∼U(0,30)$$\n"
      ],
      "metadata": {
        "id": "PjM2i_0QstGk"
      }
    },
    {
      "cell_type": "markdown",
      "source": [
        "### Paso 4: Defina el modelo del sistema y los objetivos de la simulación.\n",
        "\n",
        "El modelo que utilizaremos para representar el sistema realizara una diferencia entre los valores de las varibles `Persona1` y `Persona2` y tomaremos su valor abusoluto.\n",
        "\n",
        "$$|Persona1-Persona2|$$\n",
        "\n",
        "Cuando esta diferencia sea menor o igual a 10 se guardara una victoria, en caso contrario se guardara un fracaso. Con el objetivo de que al repetir varias veces el experimento podamos obtener la probabilidad de exito del experimento."
      ],
      "metadata": {
        "id": "pmcgRobpwGYv"
      }
    },
    {
      "cell_type": "code",
      "source": [
        "def retardo():    #Esta funcion devuelve un 1 cuando una persona espera 10 minutos o menos a la otra y devuelve un 0 cuando esto no ocurre.\n",
        "  Victoria=0\n",
        "  Persona1=rd.randrange(0,30) #La funcion randrange devuelve un valor aleatorio con distribución uniforme en un rango especificado.\n",
        "  Persona2=rd.randrange(0,30) \n",
        "  if abs(Persona1-Persona2)<=10:  \n",
        "    Victoria+=1  \n",
        "  return Victoria    "
      ],
      "metadata": {
        "id": "tr407AhdnL43"
      },
      "execution_count": null,
      "outputs": []
    },
    {
      "cell_type": "markdown",
      "source": [
        "### Paso 5: Diseñe el experimento.\n",
        "Para determinar la probabilidad de que ocurra una victoria realizaremos `n` simulaciones del modelo, guardando las probabilidades acumuladas."
      ],
      "metadata": {
        "id": "8fzqZqgby_8H"
      }
    },
    {
      "cell_type": "code",
      "source": [
        "def prob_atiempo(n): #Esta funcion devuelve una lista con las probabilidades acumuladas en cada repeticion i para n repeticiones.\n",
        "  Probabilidad=[] \n",
        "  atiempo=0 \n",
        "  for i in range(n):\n",
        "    atiempo += retardo()\n",
        "    Probabilidad.append(atiempo/(i+1))\n",
        "  return Probabilidad"
      ],
      "metadata": {
        "id": "vkCZrVTJ8-98"
      },
      "execution_count": null,
      "outputs": []
    },
    {
      "cell_type": "code",
      "source": [
        "x = prob_atiempo(400) #Asignamos un valor a n."
      ],
      "metadata": {
        "id": "FUC_zSwF-GO4"
      },
      "execution_count": null,
      "outputs": []
    },
    {
      "cell_type": "code",
      "source": [
        "plt.plot(x) #Graficamos los valores obtenidos."
      ],
      "metadata": {
        "colab": {
          "base_uri": "https://localhost:8080/",
          "height": 447
        },
        "id": "5bgbrFAX-Kqd",
        "outputId": "436bbee8-a07a-4019-a917-272c4f3526bd"
      },
      "execution_count": null,
      "outputs": [
        {
          "output_type": "execute_result",
          "data": {
            "text/plain": [
              "[<matplotlib.lines.Line2D at 0x7f4d7f1bd540>]"
            ]
          },
          "metadata": {},
          "execution_count": 56
        },
        {
          "output_type": "display_data",
          "data": {
            "text/plain": [
              "<Figure size 640x480 with 1 Axes>"
            ],
            "image/png": "[encoded data removed]"
          },
          "metadata": {}
        }
      ]
    },
    {
      "cell_type": "code",
      "source": [
        "Media=np.mean(x) #Obtenemos la media de las probabilidades guardadas.\n",
        "DesEst=np.std(x) #Obtenemos la desviacion estandar de la probabilidades.\n",
        "print(Media,DesEst)"
      ],
      "metadata": {
        "colab": {
          "base_uri": "https://localhost:8080/"
        },
        "id": "AzhBUWeKAfdP",
        "outputId": "51237eff-3079-4d59-fc64-8869b7994874"
      },
      "execution_count": null,
      "outputs": [
        {
          "output_type": "stream",
          "name": "stdout",
          "text": [
            "0.5405522032914082 0.03594164919977537\n"
          ]
        }
      ]
    },
    {
      "cell_type": "markdown",
      "source": [
        "### Paso 6: Repita el experimento $N$ veces.\n",
        "Para encontrar el valor de $N$ usaremos el teorema central del limite\n",
        "$$N>(2σz_{α/2}/ϵ)^2$$\n",
        "Con los parametros obtenidos en la corrida anterior y $α=0.95$, $ϵ=0.01$"
      ],
      "metadata": {
        "id": "6MxEihlGJRsc"
      }
    },
    {
      "cell_type": "code",
      "source": [
        "N=(2*DesEst*1.96/0.01)**2 #El teorema central del limite nos dara una aproximacion a la cantidad de reprticiones que se requieren para que el experimento\n",
        "print(N)                  #regrese resultados confiables."
      ],
      "metadata": {
        "colab": {
          "base_uri": "https://localhost:8080/"
        },
        "id": "9zGoGFByLC-L",
        "outputId": "5bbda63d-2a68-4e4d-aa83-3692907969f2"
      },
      "execution_count": null,
      "outputs": [
        {
          "output_type": "stream",
          "name": "stdout",
          "text": [
            "198.5034851472968\n"
          ]
        }
      ]
    },
    {
      "cell_type": "markdown",
      "source": [
        "Repetiremos el experimento 199 veces para obtener un nivel de confianza del 95%.\n",
        "\n",
        "Para repetir el experimento utilizaremos la siguiente función"
      ],
      "metadata": {
        "id": "VDpw65qZLgTD"
      }
    },
    {
      "cell_type": "code",
      "source": [
        "def rep(j):\n",
        "  lista=[]\n",
        "  for i in range(j):\n",
        "    r=prob_atiempo(400)\n",
        "    lista.append(np.mean(r))\n",
        "  return lista"
      ],
      "metadata": {
        "id": "N-0aGSp6Gw-8"
      },
      "execution_count": null,
      "outputs": []
    },
    {
      "cell_type": "code",
      "source": [
        "Y=rep(199)\n",
        "plt.hist(Y)\n",
        "plt.show()"
      ],
      "metadata": {
        "colab": {
          "base_uri": "https://localhost:8080/",
          "height": 430
        },
        "id": "UTgAl6pLHgvV",
        "outputId": "869dc26e-fe60-459b-f7d0-4fcc5102f0da"
      },
      "execution_count": null,
      "outputs": [
        {
          "output_type": "display_data",
          "data": {
            "text/plain": [
              "<Figure size 640x480 with 1 Axes>"
            ],
            "image/png": "[encoded data removed]"
          },
          "metadata": {}
        }
      ]
    },
    {
      "cell_type": "code",
      "source": [
        "X=np.mean(Y) #Obtenemos la media y la desviacion estandar de todos los experimentos\n",
        "s=np.std(Y)\n",
        "print(X,s)"
      ],
      "metadata": {
        "colab": {
          "base_uri": "https://localhost:8080/"
        },
        "id": "RJ57RyuEMdWo",
        "outputId": "76553a5c-6356-48a6-91ee-9b7532fa32fa"
      },
      "execution_count": null,
      "outputs": [
        {
          "output_type": "stream",
          "name": "stdout",
          "text": [
            "0.5782561863306245 0.03392348891982906\n"
          ]
        }
      ]
    },
    {
      "cell_type": "markdown",
      "source": [
        "### Paso 7. Obtener el intervalo de confianza.\n",
        "Para obtener el intervalo de confianza usaremos\n",
        "$$\\bar{x}-z_{α/2}*s/\\sqrt{n}<μ<\\bar{x}+z_{α/2}*s/\\sqrt{n}$$\n",
        "con un nivel de confianza del 95%"
      ],
      "metadata": {
        "id": "CBlYVkPVNAlq"
      }
    },
    {
      "cell_type": "code",
      "source": [
        "li=X-(1.96*s/np.sqrt(N)) #Se calculan los limites con los parametros que tenemos.\n",
        "ls=X+(1.96*s/np.sqrt(N))\n",
        "print('El intervalo de confianza es:[', li, ',', ls, ']')"
      ],
      "metadata": {
        "colab": {
          "base_uri": "https://localhost:8080/"
        },
        "id": "vFgDkg32OPb-",
        "outputId": "88a2e907-464f-4902-d87a-a384a7351990"
      },
      "execution_count": null,
      "outputs": [
        {
          "output_type": "stream",
          "name": "stdout",
          "text": [
            "El intervalo de confianza es:[ 0.5735369414329751 , 0.5829754312282739 ]\n"
          ]
        }
      ]
    },
    {
      "cell_type": "markdown",
      "source": [
        "## Solución analitica\n",
        "Como definimos anteriormente tenemos dos variables aleatorias continuas identicamente distribuidas uniformes. Ambas tienen la misma funcion de densidad.\n",
        "\n",
        "$$f(x_i)=1/(b-a)=1/(30-0)=1/30 \\\\ i=1,2.$$\n",
        "\n",
        "Por lo que la funcion de distribución continua es\n",
        "$$f(x_1,x_2)=\\begin{cases} 1/30^2 & 0\\leq x_1 \\leq 30, 0\\leq x_2 \\leq 30 \\\\ 0 & \\text{en otro caso}  \\end{cases}$$\n",
        "\n",
        "Buscamos el área que cumple con la condicion $U=|x_1-x_2|\\leq10$ por lo que primero debemos de resolver por separado las ecuaciones.\n",
        "$$x_1-x_2\\leq 10$$\n",
        "$$x_1-x_2\\geq -10$$\n",
        "\n",
        "Elegimos $x_2$ como la variable dependiente y tenemos\n",
        "$$x_2\\leq x_1-10$$\n",
        "$$x_2\\geq x_1+10$$\n",
        "Para encontrar la distribución acumulada del área que cumple con la condicion, usaremos el complemento ya que es más facil de integrar y al ser simetrica tenemos la siguiete expreción,\n",
        "$$F_U(10)=1-2\\int_{10}^{30}∫_0^{x_1-10}\\frac{1}{30^2}dx_2dx_1$$"
      ],
      "metadata": {
        "id": "VNZGGBNVPMFJ"
      }
    },
    {
      "cell_type": "markdown",
      "source": [
        "Al resolver la integral obtendremos la probabilidad de que una persona no tenga que esperar a la otra más de 10 minutos.\n",
        "\n"
      ],
      "metadata": {
        "id": "cPg20U_vrw5r"
      }
    },
    {
      "cell_type": "markdown",
      "source": [
        "$$F_U(10)=1-\\frac{2}{30^2}∫_{10}^{30}∫_0^{x_1-10}dx_2dx_1$$\n",
        "$$=1-\\frac{2}{900}\\int_{10}^{30}x_2|_0^{x_1-10}dx_1$$\n",
        "$$=1-\\frac{2}{900}\\int_{10}^{30}x_1-10dx_1$$\n",
        "$$=1-\\frac{2}{900}\\left(\\frac{x_1^2}{2}-10x_1\\right)_{10}^{30}$$\n",
        "$$=1-\\frac{2}{900}\\left(\\frac{30^2}{2}-10(30)-\\frac{10^2}{2}+10(10)\\right)$$\n",
        "$$=1-1+\\frac{2(300)}{900}+\\frac{2(100)}{900(2)}-\\frac{2(100)}{900}$$\n",
        "$$=\\frac{600}{900}+\\frac{100}{900}-\\frac{200}{900}$$\n",
        "$$=\\frac{5}{9}≈0.5555$$"
      ],
      "metadata": {
        "id": "nnb0vnamg6le"
      }
    },
    {
      "cell_type": "code",
      "source": [],
      "metadata": {
        "id": "TV7cf7JFin9h"
      },
      "execution_count": null,
      "outputs": []
    }
  ]
}