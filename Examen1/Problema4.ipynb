{
  "nbformat": 4,
  "nbformat_minor": 0,
  "metadata": {
    "colab": {
      "provenance": [],
      "authorship_tag": "ABX9TyOmviA8theVnEyWISFDwUEe",
      "include_colab_link": true
    },
    "kernelspec": {
      "name": "python3",
      "display_name": "Python 3"
    },
    "language_info": {
      "name": "python"
    }
  },
  "cells": [
    {
      "cell_type": "markdown",
      "metadata": {
        "id": "view-in-github",
        "colab_type": "text"
      },
      "source": [
        "<a href=\"https://colab.research.google.com/github/Carlos-Ivan-Hernandez-Lopez/Simulacion-II/blob/main/Examen1/Problema4.ipynb\" target=\"_parent\"><img src=\"https://colab.research.google.com/assets/colab-badge.svg\" alt=\"Open In Colab\"/></a>"
      ]
    },
    {
      "cell_type": "markdown",
      "source": [
        "Instituto Politécnico Nacional \n",
        "\n",
        "Escuela superior de física y matemáticas\n",
        "\n",
        "Simulación II\n",
        "\n",
        "Primer examen parcial.\n",
        "\n",
        "Carlos Iván Hernández López"
      ],
      "metadata": {
        "id": "_prwglrVhkI0"
      }
    },
    {
      "cell_type": "markdown",
      "source": [
        "# 18. Sean cuatro variables aleatorias indepedientes $ξ_i$,todas con distribución de Poisson con media igual $1/2$. \n",
        "Determínese $P(τ\\leq1)$ siendo\n",
        "$$τ=\\frac{\\xi_1+\\xi_2+\\xi_3+\\xi_4}{4}$$"
      ],
      "metadata": {
        "id": "FrV9ZYayxvgC"
      }
    },
    {
      "cell_type": "markdown",
      "source": [
        "## Solución por simulación\n",
        "Usamos el metodo de la simulación"
      ],
      "metadata": {
        "id": "UeSpxdl51We0"
      }
    },
    {
      "cell_type": "markdown",
      "source": [
        "### Paso 1: Define las variables\n",
        "Como el problema lo indica ocuparemos cuatro variables\n",
        "$\\xi_i$ con $i=1,2,3,4$"
      ],
      "metadata": {
        "id": "unna9XAA1eF8"
      }
    },
    {
      "cell_type": "markdown",
      "source": [
        "### Paso 2 y 3: Defina la distribución de probabilidad y modele las variables aleatorias\n",
        "Como el problema lo indica las variables son identicamente distribuidas Poisson con media $1/2$\n",
        "\n",
        "$$\\xi_i\\sim PS(1/2)$$\n",
        "$$i=1,2,3,4$$"
      ],
      "metadata": {
        "id": "4kh8ldE92EFO"
      }
    },
    {
      "cell_type": "markdown",
      "source": [
        "### Paso 4: Defina el modelo del sistema y los objetivos de la simulación.\n",
        "\n",
        "El modelo sera el plasmado en el problema\n",
        "$$τ=\\frac{\\xi_1+\\xi_2+\\xi_3+\\xi_4}{4}<1$$\n",
        "\n",
        "El objetivo de la simulación sera determinar la probabilidad de que se cumpla el modelo."
      ],
      "metadata": {
        "id": "ttWdjlRK3Bbl"
      }
    },
    {
      "cell_type": "code",
      "execution_count": null,
      "metadata": {
        "id": "GagJGJR74-op"
      },
      "outputs": [],
      "source": [
        "# Se importan las librerias que usaremos.\n",
        "import numpy as np\n",
        "import random as rd\n",
        "import matplotlib.pyplot as plt\n",
        "import math \n",
        "from scipy.stats import poisson"
      ]
    },
    {
      "cell_type": "code",
      "source": [
        "def tau(): #Esta funcion genera cuatro números aleatoriaos con distribucion de Poisson y devuelve el valor de tau\n",
        "  xi1=poisson.rvs(1/2)\n",
        "  xi2=poisson.rvs(1/2)\n",
        "  xi3=poisson.rvs(1/2)\n",
        "  xi4=poisson.rvs(1/2)\n",
        "  t=(xi1+xi2+xi3+xi4)/4\n",
        "  return t"
      ],
      "metadata": {
        "id": "henlKP652440"
      },
      "execution_count": null,
      "outputs": []
    },
    {
      "cell_type": "code",
      "source": [
        "tau()"
      ],
      "metadata": {
        "colab": {
          "base_uri": "https://localhost:8080/"
        },
        "id": "HujgU7bi41mm",
        "outputId": "d246a1b8-e471-4b36-90bf-f964f2a8c66e"
      },
      "execution_count": null,
      "outputs": [
        {
          "output_type": "execute_result",
          "data": {
            "text/plain": [
              "0.0"
            ]
          },
          "metadata": {},
          "execution_count": 32
        }
      ]
    },
    {
      "cell_type": "markdown",
      "source": [
        "### Paso 5: Diseñe el experimento.\n",
        "Para determinar la probabilidad correremos n veces `tau` y compararemos si el resultado es menor a 1, de esta froma guardaremos los exitos y los dividiremos entre el número de corridas realizadas a cada paso.\n",
        "\n"
      ],
      "metadata": {
        "id": "gDtGLZ3CQCA_"
      }
    },
    {
      "cell_type": "code",
      "source": [
        "def exito(n): #Con esta funcion se guardan las probabilidades acumuladas de que se cumpla con la condicion del problema.\n",
        "  ex=0\n",
        "  Prob=[]\n",
        "  for i in range(n):\n",
        "    tau()\n",
        "    if tau()<1:\n",
        "      ex+=1\n",
        "      Prob.append(ex/(i+1))\n",
        "  return Prob"
      ],
      "metadata": {
        "id": "xrykQmcBQfUF"
      },
      "execution_count": null,
      "outputs": []
    },
    {
      "cell_type": "code",
      "source": [
        "x=exito(1000)\n",
        "plt.plot(x)\n",
        "Media=np.mean(x)\n",
        "DesEst=np.std(x)\n",
        "print(Media,DesEst)"
      ],
      "metadata": {
        "colab": {
          "base_uri": "https://localhost:8080/",
          "height": 447
        },
        "id": "zW_zLmb4RT0s",
        "outputId": "99d8456a-640c-48bd-e5d3-55364ad3e207"
      },
      "execution_count": null,
      "outputs": [
        {
          "output_type": "stream",
          "name": "stdout",
          "text": [
            "0.8548486553531914 0.013897233041669833\n"
          ]
        },
        {
          "output_type": "display_data",
          "data": {
            "text/plain": [
              "<Figure size 640x480 with 1 Axes>"
            ],
            "image/png": "[encoded data removed]"
          },
          "metadata": {}
        }
      ]
    },
    {
      "cell_type": "markdown",
      "source": [
        "### Paso 6: Repita el experimento $N$ veces\n",
        "Encontramos $N$ por medio del teorema central del limite."
      ],
      "metadata": {
        "id": "VyMBotNuSCX2"
      }
    },
    {
      "cell_type": "code",
      "source": [
        "N=math.ceil((2*DesEst*1.96/0.01)**2) #El teorema central del limite nos dara una aproximacion a la cantidad de reprticiones que se requieren para que el experimento\n",
        "print(N)                  #regrese resultados confiables."
      ],
      "metadata": {
        "colab": {
          "base_uri": "https://localhost:8080/"
        },
        "id": "NKAlMtOGpfVp",
        "outputId": "f944122f-10e2-40cc-906a-d27af3235934"
      },
      "execution_count": null,
      "outputs": [
        {
          "output_type": "stream",
          "name": "stdout",
          "text": [
            "30\n"
          ]
        }
      ]
    },
    {
      "cell_type": "code",
      "source": [
        "def rep(j):\n",
        "  lista=[]\n",
        "  for i in range(j):\n",
        "    r=exito(1000)\n",
        "    lista.append(np.mean(r))\n",
        "  return lista"
      ],
      "metadata": {
        "id": "N-0aGSp6Gw-8"
      },
      "execution_count": null,
      "outputs": []
    },
    {
      "cell_type": "code",
      "source": [
        "Y=rep(N)\n",
        "plt.hist(Y)\n",
        "plt.show()"
      ],
      "metadata": {
        "colab": {
          "base_uri": "https://localhost:8080/",
          "height": 430
        },
        "id": "UTgAl6pLHgvV",
        "outputId": "59ef83c1-4465-4f5e-e587-5d2606fdcef2"
      },
      "execution_count": null,
      "outputs": [
        {
          "output_type": "display_data",
          "data": {
            "text/plain": [
              "<Figure size 640x480 with 1 Axes>"
            ],
            "image/png": "[encoded data removed]"
          },
          "metadata": {}
        }
      ]
    },
    {
      "cell_type": "code",
      "source": [
        "X=np.mean(Y)\n",
        "s=np.std(Y)\n",
        "print(X,s)"
      ],
      "metadata": {
        "colab": {
          "base_uri": "https://localhost:8080/"
        },
        "id": "QZhcCvytq7N9",
        "outputId": "067a6c75-3bf7-4571-b53d-1b7e5249f907"
      },
      "execution_count": null,
      "outputs": [
        {
          "output_type": "stream",
          "name": "stdout",
          "text": [
            "0.8565120888469478 0.012173393538925515\n"
          ]
        }
      ]
    },
    {
      "cell_type": "markdown",
      "source": [
        "### Paso 7. Obtener el intervalo de confianza.\n",
        "Para obtener el intervalo de confianza usaremos\n",
        "$$\\bar{x}-z_{α/2}*s/\\sqrt{n}<μ<\\bar{x}+z_{α/2}*s/\\sqrt{n}$$\n",
        "con un nivel de confianza del 95%"
      ],
      "metadata": {
        "id": "CBlYVkPVNAlq"
      }
    },
    {
      "cell_type": "code",
      "source": [
        "li=X-(1.96*s/np.sqrt(N)) #Se calculan los limites con los parametros que tenemos.\n",
        "ls=X+(1.96*s/np.sqrt(N))\n",
        "print('El intervalo de confianza es:[', li, ',', ls, ']')"
      ],
      "metadata": {
        "colab": {
          "base_uri": "https://localhost:8080/"
        },
        "id": "vFgDkg32OPb-",
        "outputId": "c1701173-6954-4582-c43a-65ea1e653f3a"
      },
      "execution_count": null,
      "outputs": [
        {
          "output_type": "stream",
          "name": "stdout",
          "text": [
            "El intervalo de confianza es:[ 0.8521558959150786 , 0.8608682817788171 ]\n"
          ]
        }
      ]
    },
    {
      "cell_type": "markdown",
      "source": [
        "## Solución análitica.\n",
        "Buscamos\n",
        "$$P(τ<1)$$\n",
        "con\n",
        "$$τ=\\frac{\\xi_1+\\xi_2+\\xi_3+\\xi_4}{4}$$"
      ],
      "metadata": {
        "id": "PSWQel4nWgvn"
      }
    },
    {
      "cell_type": "markdown",
      "source": [
        "De otra forma podemos ver que buscamos\n",
        "$$P\\left(\\frac{\\xi_1+\\xi_2+\\xi_3+\\xi_4}{4}< 1 \\right)$$\n",
        "$$=P(\\xi_1+\\xi_2+\\xi_3+\\xi_4< 4)$$\n",
        "Se establece en el problema que \n",
        "$$\\xi_i\\sim PO(1/2) ... i=1,2,3,4.$$\n",
        "Sabemos que la suma de variables independientes con distribución Poisson es otra variable con distribución Poisson y parametro la suma de los parametros, por lo que\n",
        "$$X=\\xi_1+\\xi_2+\\xi_3+\\xi_4 \\sim PO(1/2+1/2+1/2+1/2)$$\n",
        "$$X\\sim PO(2)$$\n",
        "ahora buscamos\n",
        "\n",
        "$$P(X< 4)$$\n",
        "Recordando que la distribución de Poisson solo toma valores enteros prositivos y el cero, podemos ver\n",
        "$$P(X< 4)=P(X=0)+P(X=1)+P(X=2)+P(X=3) $$\n",
        "Resolvemos\n",
        "$$P(X< 4)=\\frac{e^{-2}*2^0}{0!}+\\frac{e^{-2}*2^1}{1!}+\\frac{e^{-2}*2^2}{2!}+\\frac{e^{-2}*2^3}{3!}$$\n",
        "$$=0.1353+0.2706+0.2706+0.1804$$\n",
        "$$P(\\tau< 1)=0.8569$$"
      ],
      "metadata": {
        "id": "t0prOPqmW-8b"
      }
    }
  ]
}