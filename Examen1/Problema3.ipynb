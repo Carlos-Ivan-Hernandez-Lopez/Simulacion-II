{
  "nbformat": 4,
  "nbformat_minor": 0,
  "metadata": {
    "colab": {
      "provenance": [],
      "authorship_tag": "ABX9TyPBpNdRjkWnJANvs9Lalx/w",
      "include_colab_link": true
    },
    "kernelspec": {
      "name": "python3",
      "display_name": "Python 3"
    },
    "language_info": {
      "name": "python"
    }
  },
  "cells": [
    {
      "cell_type": "markdown",
      "metadata": {
        "id": "view-in-github",
        "colab_type": "text"
      },
      "source": [
        "<a href=\"https://colab.research.google.com/github/Carlos-Ivan-Hernandez-Lopez/Simulacion-II/blob/main/Examen1/Problema3.ipynb\" target=\"_parent\"><img src=\"https://colab.research.google.com/assets/colab-badge.svg\" alt=\"Open In Colab\"/></a>"
      ]
    },
    {
      "cell_type": "markdown",
      "source": [
        "Instituto Politécnico Nacional \n",
        "\n",
        "Escuela superior de física y matemáticas\n",
        "\n",
        "Simulación II\n",
        "\n",
        "Primer examen parcial.\n",
        "\n",
        "Carlos Iván Hernández López"
      ],
      "metadata": {
        "id": "_prwglrVhkI0"
      }
    },
    {
      "cell_type": "markdown",
      "source": [
        "# 26. Una empresa dispone de varias máquinas herramienta cuyas herramientas de corte se desgastan constantemente.\n",
        "Cuando esto ocurre, la maquina es inservible. En la actualidad el mantenimiento es correctivo reemplazándose una herramienta cuando falla. Dado que cada maquina dispone de una torre con cinco herramientas, se propone reemplazar toda la torre de herramientas (las cinco herramientas de golpe) cada vez que falle una, lo que deberia reducir la frecuencia de desgaste de las herramientas. El tiempo necesario para el reemplazo de una herramienta es de una hora. las cinco pueden reemplazarse en dos horas. El coste de una hora de máquina parada es de cien euros. Cada herramienta cuesta diez euros. La table siguiente recoge los datos de averias en el caso de sistituir una sola herramienta cada vez.\n",
        "\n",
        "|Horas entre averías si sustituye una herramienta|20|30|40|50|60|70|80|\n",
        "|-|-|-|-|-|-|-|-|\n",
        "|Probabilidad|0.05|0.15|0.15|0.20|0.20|0.15|0.10|\n",
        "\n",
        "Si las cinco herramientas se cambian cada vez que una falla, la distribución de probabilidad entre fallos es la siguiente:\n",
        "\n",
        "|Horas entre averías si sustituye una herramienta|30|40|50|60|70|80|90|\n",
        "|-|-|-|-|-|-|-|-|\n",
        "|Probabilidad|0.05|0.15|0.15|0.20|0.20|0.15|0.10|\n",
        "\n",
        "Determine mediante simulación la mejor política de reemplazo de las herramientas de corte."
      ],
      "metadata": {
        "id": "p_yKa-fa9pGk"
      }
    },
    {
      "cell_type": "markdown",
      "source": [
        "##Solución\n",
        "Usaremos la metodologia de la simulación"
      ],
      "metadata": {
        "id": "DOZo_QM2NqDV"
      }
    },
    {
      "cell_type": "markdown",
      "source": [
        "### Paso 1: Define las variables.\n",
        "Ocuparemos dos variables\n",
        "\n",
        "$H1$: Representa el cambio de una sola herramienta\n",
        "\n",
        "$H5$: Representa el cambio de las cinco herramientas\n"
      ],
      "metadata": {
        "id": "o2yO5B4rN6JF"
      }
    },
    {
      "cell_type": "markdown",
      "source": [
        "###Paso 2 y 3: Defina la distribución de probabilidad y modele las variables aleatorias.\n",
        "La distribución de probabilidad se presenta en el problema y quedan modeladas de la siguiente forma.\n",
        "\n",
        "$$H1\\sim \\begin{cases}20 & p=0.05 \\\\ 30 & p=0.15 \\\\ 40 & p=0.15 \\\\ 50 & p=0.20 \\\\ 60 & p=0.20 \\\\70 & p=0.15 \\\\ 80 & p=0.10 \\end{cases}$$\n",
        "\n",
        "$$H5\\sim \\begin{cases}30 & p=0.05 \\\\ 40 & p=0.15 \\\\ 50 & p=0.15 \\\\ 60 & p=0.20 \\\\ 70 & p=0.20 \\\\80 & p=0.15 \\\\ 90 & p=0.10 \\end{cases}$$"
      ],
      "metadata": {
        "id": "RPV5QQRcTlXi"
      }
    },
    {
      "cell_type": "markdown",
      "source": [
        "### Paso 4:Defina el modelo del sistema y los objetivos de la simualción.\n",
        "El modelo que usaremos sera\n",
        "\n",
        "$$MejorPolitica=min(Perdida_{H1},Perdida_{H2})$$\n",
        "donde \n",
        "$$Perdida(H)=TiempoPerdido*100$$\n",
        "\n",
        "El objetivo de la simulación es determinar la mejor politica de cambio de piezas.\n"
      ],
      "metadata": {
        "id": "nhyvb8wFWr_k"
      }
    },
    {
      "cell_type": "code",
      "execution_count": null,
      "metadata": {
        "id": "GagJGJR74-op"
      },
      "outputs": [],
      "source": [
        "# Se importan las librerias que usaremos.\n",
        "import numpy as np\n",
        "import random as rd\n",
        "import matplotlib.pyplot as plt\n",
        "import math "
      ]
    },
    {
      "cell_type": "code",
      "source": [
        "def H1(): #Esta función describe el comportamiento de H1 y devuelve las horas trabajadas.\n",
        "  M=rd.random()\n",
        "  h=0\n",
        "  if M<0.05:\n",
        "    h=20\n",
        "  else:\n",
        "    if M<0.20:\n",
        "      h=30\n",
        "    else:\n",
        "      if M<0.35:\n",
        "        h=40\n",
        "      else:\n",
        "        if M<0.55:\n",
        "          h=50\n",
        "        else:\n",
        "          if M<0.75:\n",
        "            h=60\n",
        "          else:\n",
        "            if M<0.90:\n",
        "              h=70\n",
        "            else:\n",
        "              if M<=1:\n",
        "                h=80\n",
        "  return h"
      ],
      "metadata": {
        "id": "pFmkR7RyY64y"
      },
      "execution_count": null,
      "outputs": []
    },
    {
      "cell_type": "code",
      "source": [
        "def H2(): #Esta función describe el comportamiento de H2 y devuelve las horas trabajadas.\n",
        "  M=rd.random()\n",
        "  c=0\n",
        "  if M<0.05:\n",
        "    c=30\n",
        "  else:\n",
        "    if M<0.20:\n",
        "      c=40\n",
        "    else:\n",
        "      if M<0.35:\n",
        "        c=50\n",
        "      else:\n",
        "        if M<0.55:\n",
        "          c=60\n",
        "        else:\n",
        "          if M<0.75:\n",
        "            c=70\n",
        "          else:\n",
        "            if M<0.90:\n",
        "              c=80\n",
        "            else:\n",
        "              if M<=1:\n",
        "                c=90\n",
        "  return c"
      ],
      "metadata": {
        "id": "KP9JYltbasPB"
      },
      "execution_count": null,
      "outputs": []
    },
    {
      "cell_type": "markdown",
      "source": [
        "### Paso 5: Diseñe el experimento.\n",
        "El experimento registra el costo promedio de reparacion de la maquina y lo guarda en una lista para ambos casos."
      ],
      "metadata": {
        "id": "wGoBQGZBdTDP"
      }
    },
    {
      "cell_type": "code",
      "source": [
        "def mejor(n): #Esta función caclula es costo promedio de la politica H1 en n repeticiones. \n",
        "  P=[]\n",
        "  c=0\n",
        "  Promedio=0\n",
        "  for i in range(n):\n",
        "    if (100/H1()>(100/H2())):\n",
        "      c+=1\n",
        "    P.append(c/(i+1))\n",
        "  Promedio=np.mean(P)\n",
        "  if Promedio>0.5:\n",
        "    print('Es mejor cambiar la politica.')\n",
        "  else:\n",
        "    print('Es mejor dejar la politica actual.')\n",
        "  return P"
      ],
      "metadata": {
        "id": "GrmdTQgsd2dD"
      },
      "execution_count": 96,
      "outputs": []
    },
    {
      "cell_type": "code",
      "source": [
        "x=mejor(1000)\n",
        "plt.plot(x)"
      ],
      "metadata": {
        "colab": {
          "base_uri": "https://localhost:8080/",
          "height": 465
        },
        "id": "b4NLy1krfHgt",
        "outputId": "d30b4b42-e3e3-49c1-afe4-43536720a152"
      },
      "execution_count": 97,
      "outputs": [
        {
          "output_type": "stream",
          "name": "stdout",
          "text": [
            "Es mejor cambiar la politica.\n"
          ]
        },
        {
          "output_type": "execute_result",
          "data": {
            "text/plain": [
              "[<matplotlib.lines.Line2D at 0x7f1aa94b9450>]"
            ]
          },
          "metadata": {},
          "execution_count": 97
        },
        {
          "output_type": "display_data",
          "data": {
            "text/plain": [
              "<Figure size 640x480 with 1 Axes>"
            ],
            "image/png": "[encoded data removed]"
          },
          "metadata": {}
        }
      ]
    },
    {
      "cell_type": "code",
      "source": [
        "Media=np.mean(x)\n",
        "DesEst=np.std(x)\n",
        "print(Media,DesEst)"
      ],
      "metadata": {
        "colab": {
          "base_uri": "https://localhost:8080/"
        },
        "id": "68Z6Yv8Soj7s",
        "outputId": "caac6d26-0f42-4ddf-919c-8ee414c54506"
      },
      "execution_count": 98,
      "outputs": [
        {
          "output_type": "stream",
          "name": "stdout",
          "text": [
            "0.5658295770969822 0.03105547429714282\n"
          ]
        }
      ]
    },
    {
      "cell_type": "markdown",
      "source": [
        "### Paso 6: Repita el experimento $N$ veces\n",
        "Encontramos $N$ por medio del teorema central del limite.\n"
      ],
      "metadata": {
        "id": "JgsCsqfNo9dn"
      }
    },
    {
      "cell_type": "code",
      "source": [
        "N=math.ceil((2*DesEst*1.96/0.01)**2) #El teorema central del limite nos dara una aproximacion a la cantidad de reprticiones que se requieren para que el experimento\n",
        "print(N)                  #regrese resultados confiables."
      ],
      "metadata": {
        "colab": {
          "base_uri": "https://localhost:8080/"
        },
        "id": "NKAlMtOGpfVp",
        "outputId": "26c4ffcf-65ea-4f47-ddfa-9ecd89787135"
      },
      "execution_count": 99,
      "outputs": [
        {
          "output_type": "stream",
          "name": "stdout",
          "text": [
            "149\n"
          ]
        }
      ]
    },
    {
      "cell_type": "code",
      "source": [
        "def rep(j):\n",
        "  lista=[]\n",
        "  for i in range(j):\n",
        "    r=mejor(1000)\n",
        "    lista.append(np.mean(r))\n",
        "  return lista"
      ],
      "metadata": {
        "id": "N-0aGSp6Gw-8"
      },
      "execution_count": 101,
      "outputs": []
    },
    {
      "cell_type": "code",
      "source": [
        "Y=rep(N)\n",
        "plt.hist(Y)\n",
        "plt.show()"
      ],
      "metadata": {
        "colab": {
          "base_uri": "https://localhost:8080/",
          "height": 1000
        },
        "id": "UTgAl6pLHgvV",
        "outputId": "39aa25fd-e4e6-41b7-c8e4-d98a32f3d808"
      },
      "execution_count": 102,
      "outputs": [
        {
          "output_type": "stream",
          "name": "stdout",
          "text": [
            "Es mejor cambiar la politica.\n",
            "Es mejor cambiar la politica.\n",
            "Es mejor cambiar la politica.\n",
            "Es mejor cambiar la politica.\n",
            "Es mejor cambiar la politica.\n",
            "Es mejor cambiar la politica.\n",
            "Es mejor cambiar la politica.\n",
            "Es mejor cambiar la politica.\n",
            "Es mejor cambiar la politica.\n",
            "Es mejor cambiar la politica.\n",
            "Es mejor cambiar la politica.\n",
            "Es mejor cambiar la politica.\n",
            "Es mejor cambiar la politica.\n",
            "Es mejor cambiar la politica.\n",
            "Es mejor cambiar la politica.\n",
            "Es mejor cambiar la politica.\n",
            "Es mejor cambiar la politica.\n",
            "Es mejor cambiar la politica.\n",
            "Es mejor cambiar la politica.\n",
            "Es mejor cambiar la politica.\n",
            "Es mejor cambiar la politica.\n",
            "Es mejor cambiar la politica.\n",
            "Es mejor cambiar la politica.\n",
            "Es mejor cambiar la politica.\n",
            "Es mejor cambiar la politica.\n",
            "Es mejor cambiar la politica.\n",
            "Es mejor cambiar la politica.\n",
            "Es mejor cambiar la politica.\n",
            "Es mejor cambiar la politica.\n",
            "Es mejor cambiar la politica.\n",
            "Es mejor cambiar la politica.\n",
            "Es mejor cambiar la politica.\n",
            "Es mejor cambiar la politica.\n",
            "Es mejor cambiar la politica.\n",
            "Es mejor cambiar la politica.\n",
            "Es mejor cambiar la politica.\n",
            "Es mejor cambiar la politica.\n",
            "Es mejor cambiar la politica.\n",
            "Es mejor cambiar la politica.\n",
            "Es mejor cambiar la politica.\n",
            "Es mejor cambiar la politica.\n",
            "Es mejor cambiar la politica.\n",
            "Es mejor cambiar la politica.\n",
            "Es mejor cambiar la politica.\n",
            "Es mejor cambiar la politica.\n",
            "Es mejor cambiar la politica.\n",
            "Es mejor cambiar la politica.\n",
            "Es mejor cambiar la politica.\n",
            "Es mejor cambiar la politica.\n",
            "Es mejor cambiar la politica.\n",
            "Es mejor cambiar la politica.\n",
            "Es mejor cambiar la politica.\n",
            "Es mejor cambiar la politica.\n",
            "Es mejor cambiar la politica.\n",
            "Es mejor cambiar la politica.\n",
            "Es mejor cambiar la politica.\n",
            "Es mejor cambiar la politica.\n",
            "Es mejor cambiar la politica.\n",
            "Es mejor cambiar la politica.\n",
            "Es mejor cambiar la politica.\n",
            "Es mejor cambiar la politica.\n",
            "Es mejor cambiar la politica.\n",
            "Es mejor cambiar la politica.\n",
            "Es mejor cambiar la politica.\n",
            "Es mejor cambiar la politica.\n",
            "Es mejor cambiar la politica.\n",
            "Es mejor cambiar la politica.\n",
            "Es mejor cambiar la politica.\n",
            "Es mejor cambiar la politica.\n",
            "Es mejor cambiar la politica.\n",
            "Es mejor cambiar la politica.\n",
            "Es mejor cambiar la politica.\n",
            "Es mejor cambiar la politica.\n",
            "Es mejor cambiar la politica.\n",
            "Es mejor cambiar la politica.\n",
            "Es mejor cambiar la politica.\n",
            "Es mejor cambiar la politica.\n",
            "Es mejor cambiar la politica.\n",
            "Es mejor cambiar la politica.\n",
            "Es mejor cambiar la politica.\n",
            "Es mejor cambiar la politica.\n",
            "Es mejor cambiar la politica.\n",
            "Es mejor cambiar la politica.\n",
            "Es mejor cambiar la politica.\n",
            "Es mejor cambiar la politica.\n",
            "Es mejor cambiar la politica.\n",
            "Es mejor cambiar la politica.\n",
            "Es mejor cambiar la politica.\n",
            "Es mejor cambiar la politica.\n",
            "Es mejor cambiar la politica.\n",
            "Es mejor cambiar la politica.\n",
            "Es mejor cambiar la politica.\n",
            "Es mejor cambiar la politica.\n",
            "Es mejor cambiar la politica.\n",
            "Es mejor cambiar la politica.\n",
            "Es mejor cambiar la politica.\n",
            "Es mejor cambiar la politica.\n",
            "Es mejor cambiar la politica.\n",
            "Es mejor cambiar la politica.\n",
            "Es mejor cambiar la politica.\n",
            "Es mejor cambiar la politica.\n",
            "Es mejor cambiar la politica.\n",
            "Es mejor cambiar la politica.\n",
            "Es mejor cambiar la politica.\n",
            "Es mejor cambiar la politica.\n",
            "Es mejor cambiar la politica.\n",
            "Es mejor cambiar la politica.\n",
            "Es mejor cambiar la politica.\n",
            "Es mejor cambiar la politica.\n",
            "Es mejor cambiar la politica.\n",
            "Es mejor cambiar la politica.\n",
            "Es mejor cambiar la politica.\n",
            "Es mejor cambiar la politica.\n",
            "Es mejor cambiar la politica.\n",
            "Es mejor cambiar la politica.\n",
            "Es mejor cambiar la politica.\n",
            "Es mejor cambiar la politica.\n",
            "Es mejor cambiar la politica.\n",
            "Es mejor cambiar la politica.\n",
            "Es mejor cambiar la politica.\n",
            "Es mejor cambiar la politica.\n",
            "Es mejor cambiar la politica.\n",
            "Es mejor cambiar la politica.\n",
            "Es mejor cambiar la politica.\n",
            "Es mejor cambiar la politica.\n",
            "Es mejor cambiar la politica.\n",
            "Es mejor cambiar la politica.\n",
            "Es mejor cambiar la politica.\n",
            "Es mejor cambiar la politica.\n",
            "Es mejor cambiar la politica.\n",
            "Es mejor cambiar la politica.\n",
            "Es mejor cambiar la politica.\n",
            "Es mejor cambiar la politica.\n",
            "Es mejor cambiar la politica.\n",
            "Es mejor cambiar la politica.\n",
            "Es mejor cambiar la politica.\n",
            "Es mejor cambiar la politica.\n",
            "Es mejor cambiar la politica.\n",
            "Es mejor cambiar la politica.\n",
            "Es mejor cambiar la politica.\n",
            "Es mejor cambiar la politica.\n",
            "Es mejor cambiar la politica.\n",
            "Es mejor cambiar la politica.\n",
            "Es mejor cambiar la politica.\n",
            "Es mejor cambiar la politica.\n",
            "Es mejor cambiar la politica.\n",
            "Es mejor cambiar la politica.\n",
            "Es mejor cambiar la politica.\n",
            "Es mejor cambiar la politica.\n"
          ]
        },
        {
          "output_type": "display_data",
          "data": {
            "text/plain": [
              "<Figure size 640x480 with 1 Axes>"
            ],
            "image/png": "[encoded data removed]"
          },
          "metadata": {}
        }
      ]
    },
    {
      "cell_type": "code",
      "source": [
        "X=np.mean(Y)\n",
        "s=np.std(Y)\n",
        "print(X,s)"
      ],
      "metadata": {
        "colab": {
          "base_uri": "https://localhost:8080/"
        },
        "id": "QZhcCvytq7N9",
        "outputId": "48e7865d-4ba4-4b35-f8e1-2900b3a2e3e8"
      },
      "execution_count": 103,
      "outputs": [
        {
          "output_type": "stream",
          "name": "stdout",
          "text": [
            "0.578463198218061 0.020660572732152674\n"
          ]
        }
      ]
    },
    {
      "cell_type": "markdown",
      "source": [
        "### Paso 7. Obtener el intervalo de confianza.\n",
        "Para obtener el intervalo de confianza usaremos\n",
        "$$\\bar{x}-z_{α/2}*s/\\sqrt{n}<μ<\\bar{x}+z_{α/2}*s/\\sqrt{n}$$\n",
        "con un nivel de confianza del 95%"
      ],
      "metadata": {
        "id": "CBlYVkPVNAlq"
      }
    },
    {
      "cell_type": "code",
      "source": [
        "li=X-(1.96*s/np.sqrt(N)) #Se calculan los limites con los parametros que tenemos.\n",
        "ls=X+(1.96*s/np.sqrt(N))\n",
        "print('El intervalo de confianza es:[', li, ',', ls, ']')"
      ],
      "metadata": {
        "colab": {
          "base_uri": "https://localhost:8080/"
        },
        "id": "vFgDkg32OPb-",
        "outputId": "25ba48c3-7e52-43c6-d8b5-13ab478eb997"
      },
      "execution_count": 104,
      "outputs": [
        {
          "output_type": "stream",
          "name": "stdout",
          "text": [
            "El intervalo de confianza es:[ 0.5751457412850977 , 0.5817806551510244 ]\n"
          ]
        }
      ]
    }
  ]
}