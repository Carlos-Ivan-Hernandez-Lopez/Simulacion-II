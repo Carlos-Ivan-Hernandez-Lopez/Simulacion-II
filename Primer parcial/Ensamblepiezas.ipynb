{
  "nbformat": 4,
  "nbformat_minor": 0,
  "metadata": {
    "colab": {
      "provenance": [],
      "authorship_tag": "ABX9TyM2hiWSsH8+Or1GMOJcKgnl",
      "include_colab_link": true
    },
    "kernelspec": {
      "name": "python3",
      "display_name": "Python 3"
    },
    "language_info": {
      "name": "python"
    }
  },
  "cells": [
    {
      "cell_type": "markdown",
      "metadata": {
        "id": "view-in-github",
        "colab_type": "text"
      },
      "source": [
        "<a href=\"https://colab.research.google.com/github/Carlos-Ivan-Hernandez-Lopez/Simulacion-II/blob/main/Primer%20parcial/Ensamblepiezas.ipynb\" target=\"_parent\"><img src=\"https://colab.research.google.com/assets/colab-badge.svg\" alt=\"Open In Colab\"/></a>"
      ]
    },
    {
      "cell_type": "markdown",
      "source": [
        "# Experimeto"
      ],
      "metadata": {
        "id": "aV6qn86IcgPM"
      }
    },
    {
      "cell_type": "markdown",
      "source": [
        "Experimento de envonar una flecha de diametro 1.48 en un coginete de diametro 1.5 cuando tienen varianzas 0.009 y 0.0016 respectivamente."
      ],
      "metadata": {
        "id": "uHHFtnOsb8V8"
      }
    },
    {
      "cell_type": "markdown",
      "source": [
        "Calcualr la probabilidad de que una flecha envone en un coginete."
      ],
      "metadata": {
        "id": "qC3Fk3M6camx"
      }
    },
    {
      "cell_type": "code",
      "execution_count": 61,
      "metadata": {
        "id": "s2xyTa7jSPHR"
      },
      "outputs": [],
      "source": [
        "import numpy as np\n",
        "import matplotlib.pyplot as plt\n",
        "import random as rd"
      ]
    },
    {
      "cell_type": "code",
      "source": [
        "def embonar(N):\n",
        "  c=0\n",
        "  i=0\n",
        "  while i<=N:\n",
        "    x=rd.gauss(1.5,0.0016)\n",
        "    y=rd.gauss(1.48,0.009)\n",
        "    if x<=y:\n",
        "      c=c+1\n",
        "    i=i+1\n",
        "  p=1-(c/N)\n",
        "  return(p)"
      ],
      "metadata": {
        "id": "6fqVR4n3Syio"
      },
      "execution_count": 62,
      "outputs": []
    },
    {
      "cell_type": "code",
      "source": [
        "L=[]\n",
        "l1=[]\n",
        "k=1000\n",
        "for i in range(k):\n",
        "  L.append(embonar(1000))\n",
        "  l1.append(sum(L)/len(L))"
      ],
      "metadata": {
        "id": "k7jw2nDnYTgd"
      },
      "execution_count": 71,
      "outputs": []
    },
    {
      "cell_type": "code",
      "source": [
        "plt.plot(l1)"
      ],
      "metadata": {
        "colab": {
          "base_uri": "https://localhost:8080/",
          "height": 447
        },
        "id": "4apGxSphdB39",
        "outputId": "1c23aa7e-9445-416e-8125-06d2cb1612e5"
      },
      "execution_count": 70,
      "outputs": [
        {
          "output_type": "execute_result",
          "data": {
            "text/plain": [
              "[<matplotlib.lines.Line2D at 0x7f7479be16f0>]"
            ]
          },
          "metadata": {},
          "execution_count": 70
        },
        {
          "output_type": "display_data",
          "data": {
            "text/plain": [
              "<Figure size 640x480 with 1 Axes>"
            ],
            "image/png": "[encoded data removed]"
          },
          "metadata": {}
        }
      ]
    },
    {
      "cell_type": "code",
      "source": [],
      "metadata": {
        "id": "lqvkWslzdbUi"
      },
      "execution_count": null,
      "outputs": []
    }
  ]
}